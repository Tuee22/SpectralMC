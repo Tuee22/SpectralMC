{
 "cells": [
  {
   "cell_type": "code",
   "execution_count": null,
   "id": "6064ccda-ba4c-414c-8696-b5bcd4353cb5",
   "metadata": {},
   "outputs": [],
   "source": [
    "from spectralmc.sobol_sampler import SobolSampler, BoundSpec\n",
    "from spectralmc.gbm import SimulationParams, BlackScholes\n",
    "import pandas as pd\n",
    "import numpy as np\n",
    "from typing import Optional, Literal\n",
    "import plotly.express as px\n",
    "from math import exp, sqrt, log, erf\n",
    "import QuantLib as ql\n",
    "from pathlib import Path"
   ]
  },
  {
   "cell_type": "code",
   "execution_count": null,
   "id": "d5e2324f-6ecd-42a3-9b22-c00e8bc77864",
   "metadata": {},
   "outputs": [],
   "source": [
    "dtype='float64'"
   ]
  },
  {
   "cell_type": "code",
   "execution_count": null,
   "id": "1d8cf8fb-98bd-47a3-8a2a-489bbe924350",
   "metadata": {},
   "outputs": [],
   "source": [
    "assert (dtype in ['float32','float64'])\n",
    "base_dir   = Path(\"..\") / \"tests\" / \".failed_artifacts\"\n",
    "file_name  = f\"bs_mc_failure_{dtype}.parquet\"\n",
    "file_path  = base_dir / file_name\n",
    "df=pd.read_parquet(file_path)\n",
    "df"
   ]
  },
  {
   "cell_type": "code",
   "execution_count": null,
   "id": "d6155161-b44a-4c96-a1ca-ccd3ada15257",
   "metadata": {},
   "outputs": [],
   "source": [
    "index=6\n",
    "inputs=BlackScholes.Inputs(**df.iloc[index]['inputs'].to_dict())\n",
    "inputs"
   ]
  },
  {
   "cell_type": "code",
   "execution_count": null,
   "id": "8d6531f2-9d24-42f0-a734-58af9a452d19",
   "metadata": {},
   "outputs": [],
   "source": [
    "sp = SimulationParams(\n",
    "    timesteps=1,\n",
    "    network_size=256,\n",
    "    batches_per_mc_run=(2**20),\n",
    "    threads_per_block=256,\n",
    "    mc_seed=42,\n",
    "    buffer_size=4,\n",
    "    dtype=dtype,\n",
    "    simulate_log_return=True,\n",
    "    normalize_forwards=False,\n",
    ")\n",
    "bs = BlackScholes(sp=sp)"
   ]
  },
  {
   "cell_type": "code",
   "execution_count": null,
   "id": "7979507c-39d4-445d-a52b-a7dfc5d4e593",
   "metadata": {
    "tags": []
   },
   "outputs": [],
   "source": [
    "%%time\n",
    "prices=[bs.price_to_host(inputs) for _ in range(1024)]"
   ]
  },
  {
   "cell_type": "code",
   "execution_count": null,
   "id": "e216fe5a-7979-4dab-b9e8-34ca77a867d8",
   "metadata": {},
   "outputs": [],
   "source": [
    "bs._normal_gen.get_time_spent_synchronizing()"
   ]
  },
  {
   "cell_type": "code",
   "execution_count": null,
   "id": "23f2aa3e-170e-4932-8363-1b7fba3c48ed",
   "metadata": {},
   "outputs": [],
   "source": [
    "bs._normal_gen.get_idle_time()"
   ]
  },
  {
   "cell_type": "code",
   "execution_count": null,
   "id": "073b262d-46e2-40e4-b084-c59c6d1b7d4f",
   "metadata": {},
   "outputs": [],
   "source": [
    "def bs_price_quantlib(inp: BlackScholes.Inputs) -> BlackScholes.HostPricingResults:\n",
    "    \"\"\"Closed-form Black price via QuantLib.blackFormula.\"\"\"\n",
    "    std = inp.v * sqrt(inp.T)\n",
    "    disc = exp(-inp.r * inp.T)\n",
    "    fwd = inp.X0 * exp((inp.r - inp.d) * inp.T)\n",
    "\n",
    "    call = ql.blackFormula(ql.Option.Call, inp.K, fwd, std, disc)\n",
    "    put = ql.blackFormula(ql.Option.Put, inp.K, fwd, std, disc)\n",
    "\n",
    "    cint = disc * max(fwd - inp.K, 0.0)\n",
    "    pint = disc * max(inp.K - fwd, 0.0)\n",
    "\n",
    "    return BlackScholes.HostPricingResults(\n",
    "        call_price_intrinsic=cint,\n",
    "        put_price_intrinsic=pint,\n",
    "        underlying=fwd,\n",
    "        call_convexity=call - cint,\n",
    "        put_convexity=put - pint,\n",
    "        call_price=call,\n",
    "        put_price=put,\n",
    "    )"
   ]
  },
  {
   "cell_type": "code",
   "execution_count": null,
   "id": "7bf75eb1-d83e-47d6-b636-579e70d8ba91",
   "metadata": {},
   "outputs": [],
   "source": [
    "fwd=inputs.X0*exp((inputs.r-inputs.d)*inputs.T)\n",
    "print(fwd)\n",
    "print((fwd-inputs.K)*exp(-inputs.r*inputs.T))"
   ]
  },
  {
   "cell_type": "code",
   "execution_count": null,
   "id": "a9fa11d6-ed1a-4915-88f8-2df06286cd18",
   "metadata": {},
   "outputs": [],
   "source": [
    "%%time\n",
    "mc_price=bs.price_to_host(inputs)\n",
    "mc_price"
   ]
  },
  {
   "cell_type": "code",
   "execution_count": null,
   "id": "8752f1c7-8315-4b0e-8a8e-63e63b7f9726",
   "metadata": {},
   "outputs": [],
   "source": [
    "analytic=bs_price_quantlib(inputs)\n",
    "analytic"
   ]
  },
  {
   "cell_type": "markdown",
   "id": "cfb403a7-31b7-41ee-9d07-939096ae4950",
   "metadata": {},
   "source": [
    "## Part 3: repeated samplings of an arbitrary point"
   ]
  },
  {
   "cell_type": "code",
   "execution_count": null,
   "id": "25509697-19a4-4439-8d7b-974c7a33d3df",
   "metadata": {},
   "outputs": [],
   "source": [
    "%%time\n",
    "samples=pd.DataFrame([bs.price_to_host(inputs).model_dump() for _ in range(1024)])"
   ]
  },
  {
   "cell_type": "code",
   "execution_count": null,
   "id": "5d1e13e1-011b-4386-8b36-cd26d07624a2",
   "metadata": {},
   "outputs": [],
   "source": [
    "samples_added=samples.copy()\n",
    "samples_added['parity_check']=np.abs(samples_added['put_convexity']-samples_added['call_convexity'])\n",
    "samples_added=samples_added.sort_values('parity_check',ascending=False)\n",
    "samples_added"
   ]
  },
  {
   "cell_type": "code",
   "execution_count": null,
   "id": "a196fe02-f371-4d30-b10a-9fde61e51d06",
   "metadata": {},
   "outputs": [],
   "source": [
    "px.scatter(samples_added,x='underlying',y='parity_check')"
   ]
  },
  {
   "cell_type": "code",
   "execution_count": null,
   "id": "2ef4e74b-8a67-4c9d-a782-5d322163ba9d",
   "metadata": {},
   "outputs": [],
   "source": [
    "samples.mean()"
   ]
  },
  {
   "cell_type": "code",
   "execution_count": null,
   "id": "c67b435e-941f-4bec-bc5e-cf3bcf6c14b1",
   "metadata": {},
   "outputs": [],
   "source": [
    "samples.std()"
   ]
  },
  {
   "cell_type": "code",
   "execution_count": null,
   "id": "6f8e9bf0-0914-4ab1-86cf-e2e629b2ed38",
   "metadata": {},
   "outputs": [],
   "source": [
    "samples.min()"
   ]
  },
  {
   "cell_type": "code",
   "execution_count": null,
   "id": "818fcd13-8264-456d-9201-1d73d93a6886",
   "metadata": {},
   "outputs": [],
   "source": [
    "samples.max()"
   ]
  },
  {
   "cell_type": "code",
   "execution_count": null,
   "id": "79a32356-98ca-48ab-903d-337fec8c9b29",
   "metadata": {},
   "outputs": [],
   "source": [
    "px.violin(samples['put_convexity']-analytic.put_convexity,box=True)"
   ]
  }
 ],
 "metadata": {
  "kernelspec": {
   "display_name": "Python 3 (ipykernel)",
   "language": "python",
   "name": "python3"
  },
  "language_info": {
   "codemirror_mode": {
    "name": "ipython",
    "version": 3
   },
   "file_extension": ".py",
   "mimetype": "text/x-python",
   "name": "python",
   "nbconvert_exporter": "python",
   "pygments_lexer": "ipython3",
   "version": "3.12.10"
  }
 },
 "nbformat": 4,
 "nbformat_minor": 5
}
