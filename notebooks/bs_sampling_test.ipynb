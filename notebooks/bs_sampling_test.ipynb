{
 "cells": [
  {
   "cell_type": "code",
   "execution_count": 1,
   "id": "6064ccda-ba4c-414c-8696-b5bcd4353cb5",
   "metadata": {},
   "outputs": [],
   "source": [
    "from spectralmc.sobol_sampler import SobolSampler, BoundSpec\n",
    "from spectralmc.gbm import SimulationParams, BlackScholes\n",
    "import pandas as pd"
   ]
  },
  {
   "cell_type": "code",
   "execution_count": 2,
   "id": "76ad3c59-23a8-45e3-9b86-a9808cba1ea0",
   "metadata": {},
   "outputs": [],
   "source": [
    "sp = SimulationParams(\n",
    "    timesteps=1024,\n",
    "    network_size=256,\n",
    "    batches_per_mc_run=2048,\n",
    "    threads_per_block=256,\n",
    "    mc_seed=42,\n",
    "    buffer_size=1,\n",
    ")"
   ]
  },
  {
   "cell_type": "code",
   "execution_count": 3,
   "id": "d51c1e31-eeeb-4647-9316-d001fad79766",
   "metadata": {},
   "outputs": [
    {
     "name": "stdout",
     "output_type": "stream",
     "text": [
      "4096.0\n"
     ]
    }
   ],
   "source": [
    "total_size_mb=sp.memory_footprint_bytes()/1024/1024\n",
    "print(total_size_mb)"
   ]
  },
  {
   "cell_type": "code",
   "execution_count": 4,
   "id": "61e40fec-8201-499e-9e03-ddcce5786e96",
   "metadata": {},
   "outputs": [],
   "source": [
    "bs_dimensions = {\n",
    "    \"X0\": BoundSpec(lower=0.001, upper=10000),\n",
    "    \"K\":  BoundSpec(lower=0.001, upper=20000),\n",
    "    \"T\":  BoundSpec(lower=0,     upper=10),\n",
    "    \"r\":  BoundSpec(lower=-0.2,  upper=0.2),\n",
    "    \"d\":  BoundSpec(lower=-0.2,  upper=0.2),\n",
    "    \"v\":  BoundSpec(lower=0,     upper=2.0),\n",
    "}"
   ]
  },
  {
   "cell_type": "code",
   "execution_count": 5,
   "id": "7eeb3584-4995-4381-a351-49822ceab227",
   "metadata": {},
   "outputs": [],
   "source": [
    "ss = SobolSampler(pydantic_class=BlackScholes.Inputs,dimensions=bs_dimensions,seed=43)"
   ]
  },
  {
   "cell_type": "code",
   "execution_count": 6,
   "id": "8e889f48-575b-44cb-b116-d69702cfd063",
   "metadata": {},
   "outputs": [],
   "source": [
    "bs = BlackScholes(sp=sp)"
   ]
  },
  {
   "cell_type": "code",
   "execution_count": 7,
   "id": "90d4a750-14e1-41d8-8315-1291837c91d5",
   "metadata": {},
   "outputs": [
    {
     "name": "stdout",
     "output_type": "stream",
     "text": [
      "CPU times: user 0 ns, sys: 309 μs, total: 309 μs\n",
      "Wall time: 313 μs\n"
     ]
    }
   ],
   "source": [
    "%%time\n",
    "samples=ss.sample(64)"
   ]
  },
  {
   "cell_type": "code",
   "execution_count": 12,
   "id": "7979507c-39d4-445d-a52b-a7dfc5d4e593",
   "metadata": {},
   "outputs": [
    {
     "name": "stdout",
     "output_type": "stream",
     "text": [
      "CPU times: user 6.21 s, sys: 1.06 ms, total: 6.21 s\n",
      "Wall time: 6.21 s\n"
     ]
    }
   ],
   "source": [
    "%%time\n",
    "prices=[bs.price_to_host(input) for input in samples]"
   ]
  },
  {
   "cell_type": "code",
   "execution_count": 13,
   "id": "699fc5f0-e14d-4e06-8144-b446dcf6f814",
   "metadata": {},
   "outputs": [
    {
     "data": {
      "text/plain": [
       "0.0637979507446289"
      ]
     },
     "execution_count": 13,
     "metadata": {},
     "output_type": "execute_result"
    }
   ],
   "source": [
    "bs._normal_gen.get_time_spent_synchronizing()"
   ]
  }
 ],
 "metadata": {
  "kernelspec": {
   "display_name": "Python 3 (ipykernel)",
   "language": "python",
   "name": "python3"
  },
  "language_info": {
   "codemirror_mode": {
    "name": "ipython",
    "version": 3
   },
   "file_extension": ".py",
   "mimetype": "text/x-python",
   "name": "python",
   "nbconvert_exporter": "python",
   "pygments_lexer": "ipython3",
   "version": "3.12.10"
  }
 },
 "nbformat": 4,
 "nbformat_minor": 5
}
