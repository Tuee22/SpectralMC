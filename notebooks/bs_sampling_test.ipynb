{
 "cells": [
  {
   "cell_type": "code",
   "execution_count": null,
   "id": "6064ccda-ba4c-414c-8696-b5bcd4353cb5",
   "metadata": {},
   "outputs": [],
   "source": [
    "from spectralmc.sobol_sampler import SobolSampler, BoundSpec\n",
    "from spectralmc.gbm import SimulationParams, BlackScholes\n",
    "import pandas as pd\n",
    "from typing import Optional"
   ]
  },
  {
   "cell_type": "code",
   "execution_count": null,
   "id": "76ad3c59-23a8-45e3-9b86-a9808cba1ea0",
   "metadata": {},
   "outputs": [],
   "source": [
    "sp = SimulationParams(\n",
    "    timesteps=1024,\n",
    "    network_size=256,\n",
    "    batches_per_mc_run=1024,\n",
    "    threads_per_block=256,\n",
    "    mc_seed=42,\n",
    "    buffer_size=4,\n",
    ")"
   ]
  },
  {
   "cell_type": "code",
   "execution_count": null,
   "id": "d51c1e31-eeeb-4647-9316-d001fad79766",
   "metadata": {},
   "outputs": [],
   "source": [
    "total_size_mb=sp.memory_footprint_bytes()/1024/1024\n",
    "print(total_size_mb)"
   ]
  },
  {
   "cell_type": "code",
   "execution_count": null,
   "id": "61e40fec-8201-499e-9e03-ddcce5786e96",
   "metadata": {},
   "outputs": [],
   "source": [
    "bs_dimensions = {\n",
    "    \"X0\": BoundSpec(lower=0.001, upper=10000),\n",
    "    \"K\":  BoundSpec(lower=0.001, upper=20000),\n",
    "    \"T\":  BoundSpec(lower=0,     upper=10),\n",
    "    \"r\":  BoundSpec(lower=-0.2,  upper=0.2),\n",
    "    \"d\":  BoundSpec(lower=-0.2,  upper=0.2),\n",
    "    \"v\":  BoundSpec(lower=0,     upper=2.0),\n",
    "}"
   ]
  },
  {
   "cell_type": "code",
   "execution_count": null,
   "id": "7eeb3584-4995-4381-a351-49822ceab227",
   "metadata": {},
   "outputs": [],
   "source": [
    "ss = SobolSampler(pydantic_class=BlackScholes.Inputs,dimensions=bs_dimensions,seed=43)"
   ]
  },
  {
   "cell_type": "code",
   "execution_count": null,
   "id": "8e889f48-575b-44cb-b116-d69702cfd063",
   "metadata": {},
   "outputs": [],
   "source": [
    "bs = BlackScholes(sp=sp)"
   ]
  },
  {
   "cell_type": "code",
   "execution_count": null,
   "id": "90d4a750-14e1-41d8-8315-1291837c91d5",
   "metadata": {},
   "outputs": [],
   "source": [
    "%%time\n",
    "samples=ss.sample(128)"
   ]
  },
  {
   "cell_type": "code",
   "execution_count": null,
   "id": "7979507c-39d4-445d-a52b-a7dfc5d4e593",
   "metadata": {},
   "outputs": [],
   "source": [
    "%%time\n",
    "prices=[bs.price_to_host(input) for input in samples]"
   ]
  },
  {
   "cell_type": "code",
   "execution_count": null,
   "id": "dbc5dcbb-e8c6-4d22-bcf2-02fca0918704",
   "metadata": {},
   "outputs": [],
   "source": [
    "bs._normal_gen.get_time_spent_synchronizing()"
   ]
  },
  {
   "cell_type": "code",
   "execution_count": null,
   "id": "21dc9003-1ecf-44d6-9ef9-8a4166f85b7d",
   "metadata": {},
   "outputs": [],
   "source": [
    "from __future__ import annotations\n",
    "\n",
    "import math\n",
    "from typing import Final\n",
    "\n",
    "import QuantLib as ql  # type: ignore[import]\n",
    "\n",
    "# assume BlackScholes (with Inputs and HostPricingResults) is already defined\n",
    "\n",
    "\n",
    "def bs_price_quantlib(\n",
    "    inp: BlackScholes.Inputs,\n",
    ") -> BlackScholes.HostPricingResults:\n",
    "    \"\"\"\n",
    "    Analytic Black-Scholes–Merton pricer using *QuantLib*’s\n",
    "    :class:`QuantLib.BlackScholesCalculator`.\n",
    "\n",
    "    Parameters\n",
    "    ----------\n",
    "    inp : BlackScholes.Inputs\n",
    "        Standard Black-Scholes inputs *(S₀, K, T, r, q, σ)* where\n",
    "        ``d`` is the dividend (repo) yield *q*.\n",
    "\n",
    "    Returns\n",
    "    -------\n",
    "    BlackScholes.HostPricingResults\n",
    "        * **call_price**, **put_price** – analytic option premiums.  \n",
    "        * **call_price_intrinsic**, **put_price_intrinsic** – discounted\n",
    "          intrinsic values **based on the forward expectation**\n",
    "          :math:`E_Q[S_T]=S_0e^{(r-q)T}`:  \n",
    "          :math:`e^{-rT}\\\\max(E_Q[S_T]-K,0)` and the analogous put.  \n",
    "        * **underlying** – :math:`E_Q[S_T]`.  \n",
    "        * **call_convexity**, **put_convexity** – returned as ``0.0`` (unused).\n",
    "\n",
    "    Notes\n",
    "    -----\n",
    "    * No term structures or pricing engines are built; we use the closed-form\n",
    "      calculator directly.\n",
    "    * `std_dev = σ√T`, `discount = e^{-rT}`, `growth = e^{-qT}` are the inputs\n",
    "      expected by :class:`~QuantLib.BlackScholesCalculator`.\n",
    "    \"\"\"\n",
    "    # Pre-compute closed-form factors ⟶ inputs to BlackScholesCalculator\n",
    "    std_dev: Final[float] = inp.v * math.sqrt(inp.T)            # σ√T\n",
    "    discount: Final[float] = math.exp(-inp.r * inp.T)           # e^{-rT}\n",
    "    growth: Final[float] = math.exp(-inp.d * inp.T)             # e^{-qT}\n",
    "\n",
    "    # Create calculators for call and put\n",
    "    call_calc = ql.BlackScholesCalculator(\n",
    "        ql.Option.Call, inp.K, inp.X0, growth, std_dev, discount\n",
    "    )\n",
    "    put_calc = ql.BlackScholesCalculator(\n",
    "        ql.Option.Put, inp.K, inp.X0, growth, std_dev, discount\n",
    "    )\n",
    "\n",
    "    # Forward expectation of the underlying at expiry\n",
    "    expected_st: float = inp.X0 * math.exp((inp.r - inp.d) * inp.T)\n",
    "\n",
    "    # Discounted intrinsic values based on expected_st\n",
    "    call_intrinsic: float = discount * max(expected_st - inp.K, 0.0)\n",
    "    put_intrinsic: float = discount * max(inp.K - expected_st, 0.0)\n",
    "\n",
    "    return BlackScholes.HostPricingResults(\n",
    "        call_price_intrinsic=call_intrinsic,\n",
    "        put_price_intrinsic=put_intrinsic,\n",
    "        underlying=expected_st,\n",
    "        put_convexity=0.0,\n",
    "        call_convexity=0.0,\n",
    "        call_price=call_calc.value(),\n",
    "        put_price=put_calc.value(),\n",
    "    )"
   ]
  },
  {
   "cell_type": "code",
   "execution_count": null,
   "id": "480a4505-1f72-411c-ab39-2db18d3c0dd8",
   "metadata": {},
   "outputs": [],
   "source": [
    "%%time\n",
    "ql_prices=[ql_black_scholes_pricer(input) for input in samples]"
   ]
  },
  {
   "cell_type": "code",
   "execution_count": null,
   "id": "a53dd66a-f698-4a00-9489-5bce78dc0816",
   "metadata": {},
   "outputs": [],
   "source": [
    "prices[0]"
   ]
  },
  {
   "cell_type": "code",
   "execution_count": null,
   "id": "697d0ffd-4d87-4431-8f5f-0d32ab82f378",
   "metadata": {},
   "outputs": [],
   "source": [
    "ql_prices[0]"
   ]
  }
 ],
 "metadata": {
  "kernelspec": {
   "display_name": "Python 3 (ipykernel)",
   "language": "python",
   "name": "python3"
  },
  "language_info": {
   "codemirror_mode": {
    "name": "ipython",
    "version": 3
   },
   "file_extension": ".py",
   "mimetype": "text/x-python",
   "name": "python",
   "nbconvert_exporter": "python",
   "pygments_lexer": "ipython3",
   "version": "3.12.10"
  }
 },
 "nbformat": 4,
 "nbformat_minor": 5
}
