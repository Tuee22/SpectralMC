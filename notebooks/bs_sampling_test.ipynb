{
 "cells": [
  {
   "cell_type": "code",
   "execution_count": null,
   "id": "6064ccda-ba4c-414c-8696-b5bcd4353cb5",
   "metadata": {},
   "outputs": [],
   "source": [
    "from spectralmc.sobol_sampler import SobolSampler, BoundSpec\n",
    "from spectralmc.gbm import SimulationParams, BlackScholes\n",
    "import pandas as pd\n",
    "from typing import Optional"
   ]
  },
  {
   "cell_type": "code",
   "execution_count": null,
   "id": "76ad3c59-23a8-45e3-9b86-a9808cba1ea0",
   "metadata": {},
   "outputs": [],
   "source": [
    "sp = SimulationParams(\n",
    "    timesteps=10,\n",
    "    network_size=256,\n",
    "    batches_per_mc_run=1024,\n",
    "    threads_per_block=256,\n",
    "    mc_seed=42,\n",
    "    buffer_size=4,\n",
    ")"
   ]
  },
  {
   "cell_type": "code",
   "execution_count": null,
   "id": "d51c1e31-eeeb-4647-9316-d001fad79766",
   "metadata": {},
   "outputs": [],
   "source": [
    "total_size_mb=sp.memory_footprint_bytes()/1024/1024\n",
    "print(total_size_mb)"
   ]
  },
  {
   "cell_type": "code",
   "execution_count": null,
   "id": "61e40fec-8201-499e-9e03-ddcce5786e96",
   "metadata": {},
   "outputs": [],
   "source": [
    "bs_dimensions = {\n",
    "    \"X0\": BoundSpec(lower=0.001, upper=10000),\n",
    "    \"K\":  BoundSpec(lower=0.001, upper=20000),\n",
    "    \"T\":  BoundSpec(lower=0,     upper=10),\n",
    "    \"r\":  BoundSpec(lower=-0.2,  upper=0.2),\n",
    "    \"d\":  BoundSpec(lower=-0.2,  upper=0.2),\n",
    "    \"v\":  BoundSpec(lower=0,     upper=2.0),\n",
    "}"
   ]
  },
  {
   "cell_type": "code",
   "execution_count": null,
   "id": "7eeb3584-4995-4381-a351-49822ceab227",
   "metadata": {},
   "outputs": [],
   "source": [
    "ss = SobolSampler(pydantic_class=BlackScholes.Inputs,dimensions=bs_dimensions,seed=43)"
   ]
  },
  {
   "cell_type": "code",
   "execution_count": null,
   "id": "3b7dd883-ecd3-4928-b3ca-00abad99dc4b",
   "metadata": {},
   "outputs": [],
   "source": [
    "bs = BlackScholes(sp=sp)"
   ]
  },
  {
   "cell_type": "code",
   "execution_count": null,
   "id": "90d4a750-14e1-41d8-8315-1291837c91d5",
   "metadata": {},
   "outputs": [],
   "source": [
    "%%time\n",
    "samples=ss.sample(128)"
   ]
  },
  {
   "cell_type": "code",
   "execution_count": null,
   "id": "7979507c-39d4-445d-a52b-a7dfc5d4e593",
   "metadata": {},
   "outputs": [],
   "source": [
    "%%time\n",
    "prices=[bs.price_to_host(input) for input in samples]"
   ]
  },
  {
   "cell_type": "code",
   "execution_count": null,
   "id": "dbc5dcbb-e8c6-4d22-bcf2-02fca0918704",
   "metadata": {},
   "outputs": [],
   "source": [
    "bs._normal_gen.get_time_spent_synchronizing()"
   ]
  },
  {
   "cell_type": "code",
   "execution_count": null,
   "id": "21dc9003-1ecf-44d6-9ef9-8a4166f85b7d",
   "metadata": {},
   "outputs": [],
   "source": [
    "from __future__ import annotations\n",
    "\n",
    "import math\n",
    "from typing import Final\n",
    "\n",
    "import QuantLib as ql  # type: ignore[import]\n",
    "\n",
    "# assume BlackScholes (with Inputs and HostPricingResults) is already defined\n",
    "\n",
    "\n",
    "def bs_price_quantlib(\n",
    "    inp: BlackScholes.Inputs,\n",
    ") -> BlackScholes.HostPricingResults:\n",
    "    \"\"\"\n",
    "    Analytic Black-Scholes–Merton pricer using the one-line\n",
    "    :pyfunc:`QuantLib.blackFormula`.\n",
    "\n",
    "    Parameters\n",
    "    ----------\n",
    "    inp : BlackScholes.Inputs\n",
    "        Black-Scholes inputs *(S₀, K, T, r, d, σ)* where ``d`` is the\n",
    "        continuous dividend or repo yield.\n",
    "\n",
    "    Returns\n",
    "    -------\n",
    "    BlackScholes.HostPricingResults\n",
    "        ==============  =====================================================\n",
    "        Field           Definition\n",
    "        --------------  -----------------------------------------------------\n",
    "        call_price       QL Black price for a call\n",
    "        put_price        QL Black price for a put\n",
    "        call_price_intrinsic   :math:`e^{-rT}\\\\max(E_Q[S_T]-K,0)`\n",
    "        put_price_intrinsic    :math:`e^{-rT}\\\\max(K-E_Q[S_T],0)`\n",
    "        underlying       Risk-neutral expectation\n",
    "                         :math:`E_Q[S_T]=S_0e^{(r-d)T}`\n",
    "        call_convexity   ``0.0``  (placeholder)\n",
    "        put_convexity    ``0.0``  (placeholder)\n",
    "        ==============  =====================================================\n",
    "\n",
    "    Notes\n",
    "    -----\n",
    "    * :pyfunc:`QuantLib.blackFormula` signature:\n",
    "      ``blackFormula(opt_type, strike, forward, std_dev, discount=1.0)``\n",
    "    * Intrinsic values are discounted *and* based on the **forward**\n",
    "      expectation rather than spot.\n",
    "    * Convexity fields are retained for schema compatibility but unused.\n",
    "    \"\"\"\n",
    "    # -------- pre-compute quantities required by blackFormula ------------\n",
    "    std_dev: Final[float] = inp.v * math.sqrt(inp.T)            # σ√T\n",
    "    discount: Final[float] = math.exp(-inp.r * inp.T)           # e^{-rT}\n",
    "    forward: Final[float] = inp.X0 * math.exp((inp.r - inp.d) * inp.T)\n",
    "\n",
    "    # ---------------- option prices (analytic Black) ---------------------\n",
    "    call_price: float = ql.blackFormula(\n",
    "        ql.Option.Call, inp.K, forward, std_dev, discount\n",
    "    )\n",
    "    put_price: float = ql.blackFormula(\n",
    "        ql.Option.Put, inp.K, forward, std_dev, discount\n",
    "    )\n",
    "\n",
    "    # ------------- discounted intrinsic values (based on forward) --------\n",
    "    call_intrinsic: float = discount * max(forward - inp.K, 0.0)\n",
    "    put_intrinsic: float = discount * max(inp.K - forward, 0.0)\n",
    "\n",
    "    # --------------------------- assemble result -------------------------\n",
    "    return BlackScholes.HostPricingResults(\n",
    "        call_price_intrinsic=call_intrinsic,\n",
    "        put_price_intrinsic=put_intrinsic,\n",
    "        underlying=forward,\n",
    "        put_convexity=call_price-call_intrinsic,\n",
    "        call_convexity=put_price-put_intrinsic,\n",
    "        call_price=call_price,\n",
    "        put_price=put_price,\n",
    "    )"
   ]
  },
  {
   "cell_type": "code",
   "execution_count": null,
   "id": "480a4505-1f72-411c-ab39-2db18d3c0dd8",
   "metadata": {},
   "outputs": [],
   "source": [
    "%%time\n",
    "ql_prices=[ bs_price_quantlib (input) for input in samples]"
   ]
  },
  {
   "cell_type": "code",
   "execution_count": null,
   "id": "a53dd66a-f698-4a00-9489-5bce78dc0816",
   "metadata": {},
   "outputs": [],
   "source": [
    "prices[0]"
   ]
  },
  {
   "cell_type": "code",
   "execution_count": null,
   "id": "697d0ffd-4d87-4431-8f5f-0d32ab82f378",
   "metadata": {},
   "outputs": [],
   "source": [
    "ql_prices[0]"
   ]
  },
  {
   "cell_type": "code",
   "execution_count": null,
   "id": "5b76cd7d-c8e7-4cc1-9f0a-db5d1f2852ce",
   "metadata": {},
   "outputs": [],
   "source": [
    "from __future__ import annotations\n",
    "\n",
    "# --------------------------------------------------------------------------\n",
    "# Assume the BlackScholes class (with nested pydantic Inputs and\n",
    "# HostPricingResults) is already in scope.\n",
    "# --------------------------------------------------------------------------\n",
    "\n",
    "\n",
    "def black_scholes_pricer(\n",
    "    inp: BlackScholes.Inputs,\n",
    ") -> BlackScholes.HostPricingResults:\n",
    "    r\"\"\"\n",
    "    Closed-form Black-Scholes–Merton valuation.\n",
    "\n",
    "    Parameters\n",
    "    ----------\n",
    "    inp : BlackScholes.Inputs\n",
    "        ============  =======================================================\n",
    "        Field         Meaning\n",
    "        ------------  -------------------------------------------------------\n",
    "        ``X0``        Spot price :math:`S_0`\n",
    "        ``K``         Strike\n",
    "        ``T``         Time to maturity in **years** (ACT/365F)\n",
    "        ``r``         Continuously-compounded risk-free rate\n",
    "        ``d``         Continuously-compounded dividend (or repo) yield\n",
    "        ``v``         Volatility :math:`\\sigma`\n",
    "        ============  =======================================================\n",
    "\n",
    "    Returns\n",
    "    -------\n",
    "    BlackScholes.HostPricingResults\n",
    "        ================  ===================================================\n",
    "        Field             Value\n",
    "        ----------------  ---------------------------------------------------\n",
    "        ``call_price``    Analytic Black-Scholes call premium\n",
    "        ``put_price``     Analytic Black-Scholes put  premium\n",
    "        ``underlying``    Risk-neutral expectation\n",
    "                          :math:`E_Q[S_T]=S_0 e^{(r-d)T}`\n",
    "        ``call_price_intrinsic``  Discounted intrinsic call value  \n",
    "                          :math:`e^{-rT}\\max(E_Q[S_T]-K,0)`\n",
    "        ``put_price_intrinsic``   Discounted intrinsic put  value  \n",
    "                          :math:`e^{-rT}\\max(K-E_Q[S_T],0)`\n",
    "        ``call_convexity``        *Time value* of the call  \n",
    "                          (= price − intrinsic)\n",
    "        ``put_convexity``         *Time value* of the put\n",
    "        ================  ===================================================\n",
    "\n",
    "    Notes\n",
    "    -----\n",
    "    * The cumulative normal distribution is implemented via\n",
    "      ``math.erf`` to avoid extra dependencies.\n",
    "    * Convexity (sometimes called *extrinsic* or *time value*) is defined\n",
    "      here as **option price minus discounted intrinsic value**.\n",
    "    \"\"\"\n",
    "    # -------- standard normal CDF ---------------------------------------\n",
    "    def _norm_cdf(x: float) -> float:\n",
    "        return 0.5 * (1.0 + math.erf(x / math.sqrt(2.0)))\n",
    "\n",
    "    # -------- derived quantities ----------------------------------------\n",
    "    sqrt_T = math.sqrt(inp.T) if inp.T > 0.0 else 1e-16\n",
    "    d1 = (\n",
    "        math.log(inp.X0 / inp.K)\n",
    "        + (inp.r - inp.d + 0.5 * inp.v * inp.v) * inp.T\n",
    "    ) / (inp.v * sqrt_T)\n",
    "    d2 = d1 - inp.v * sqrt_T\n",
    "\n",
    "    discount = math.exp(-inp.r * inp.T)              # e^{-rT}\n",
    "    dividend = math.exp(-inp.d * inp.T)              # e^{-dT}\n",
    "    forward  = inp.X0 * math.exp((inp.r - inp.d) * inp.T)  # E_Q[S_T]\n",
    "\n",
    "    # -------- Black-Scholes prices --------------------------------------\n",
    "    call_price = inp.X0 * dividend * _norm_cdf(d1) - inp.K * discount * _norm_cdf(d2)\n",
    "    put_price  = inp.K * discount * _norm_cdf(-d2) - inp.X0 * dividend * _norm_cdf(-d1)\n",
    "\n",
    "    # -------- discounted intrinsic values (based on forward) ------------\n",
    "    call_intrinsic = discount * max(forward - inp.K, 0.0)\n",
    "    put_intrinsic  = discount * max(inp.K - forward, 0.0)\n",
    "\n",
    "    # -------- convexities (time value) ----------------------------------\n",
    "    call_convexity = call_price - call_intrinsic\n",
    "    put_convexity  = put_price  - put_intrinsic\n",
    "\n",
    "    # -------- assemble result ------------------------------------------\n",
    "    return BlackScholes.HostPricingResults(\n",
    "        call_price_intrinsic=call_intrinsic,\n",
    "        put_price_intrinsic=put_intrinsic,\n",
    "        underlying=forward,\n",
    "        put_convexity=put_convexity,\n",
    "        call_convexity=call_convexity,\n",
    "        call_price=call_price,\n",
    "        put_price=put_price,\n",
    "    )"
   ]
  },
  {
   "cell_type": "code",
   "execution_count": null,
   "id": "e8820675-795c-4b54-bd59-e904ab1f2354",
   "metadata": {},
   "outputs": [],
   "source": [
    "inputs=BlackScholes.Inputs(\n",
    "    X0=100,\n",
    "    K=100,\n",
    "    T=2,\n",
    "    r=0.02,\n",
    "    d=0.05,\n",
    "    v=0.2,\n",
    ")"
   ]
  },
  {
   "cell_type": "code",
   "execution_count": null,
   "id": "a9fa11d6-ed1a-4915-88f8-2df06286cd18",
   "metadata": {},
   "outputs": [],
   "source": [
    "bs.price_to_host(inputs)"
   ]
  },
  {
   "cell_type": "code",
   "execution_count": null,
   "id": "8752f1c7-8315-4b0e-8a8e-63e63b7f9726",
   "metadata": {},
   "outputs": [],
   "source": [
    "bs_price_quantlib(inputs)"
   ]
  },
  {
   "cell_type": "code",
   "execution_count": null,
   "id": "6b4b8ccf-4b74-4b0f-b252-cb4fea08f1cb",
   "metadata": {},
   "outputs": [],
   "source": [
    "black_scholes_pricer(inputs)"
   ]
  }
 ],
 "metadata": {
  "kernelspec": {
   "display_name": "Python 3 (ipykernel)",
   "language": "python",
   "name": "python3"
  },
  "language_info": {
   "codemirror_mode": {
    "name": "ipython",
    "version": 3
   },
   "file_extension": ".py",
   "mimetype": "text/x-python",
   "name": "python",
   "nbconvert_exporter": "python",
   "pygments_lexer": "ipython3",
   "version": "3.12.10"
  }
 },
 "nbformat": 4,
 "nbformat_minor": 5
}
