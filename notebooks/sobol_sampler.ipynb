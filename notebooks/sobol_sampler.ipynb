{
 "cells": [
  {
   "cell_type": "code",
   "execution_count": 1,
   "id": "f4fdc620-6a84-4b98-9e85-0b00a286728a",
   "metadata": {
    "tags": []
   },
   "outputs": [],
   "source": [
    "import numpy as np\n",
    "from scipy.stats.qmc import Sobol\n",
    "from pydantic import BaseModel, ValidationError\n",
    "from typing import Type, Any, List, Dict"
   ]
  },
  {
   "cell_type": "code",
   "execution_count": 2,
   "id": "56d281fb-f7ed-42a6-b33b-b772970f0070",
   "metadata": {
    "tags": []
   },
   "outputs": [],
   "source": [
    "class SobolSampler:\n",
    "    def __init__(self, pydantic_class: Type[BaseModel], dimensions: Dict[str, List[float]]):\n",
    "        self.pydantic_class = pydantic_class\n",
    "        self.dimensions = dimensions\n",
    "        self.dimension_names = list(dimensions.keys())\n",
    "        self.lower_bounds = np.array([v[0] for v in dimensions.values()])\n",
    "        self.upper_bounds = np.array([v[1] for v in dimensions.values()])\n",
    "        self.d = len(dimensions)\n",
    "        self.sampler = Sobol(d=self.d, scramble=True)\n",
    "\n",
    "    def sample(self, n_samples: int) -> List[BaseModel]:\n",
    "        samples = self.sampler.random(n_samples)\n",
    "        scaled_samples = self.lower_bounds + (self.upper_bounds - self.lower_bounds) * samples\n",
    "        instances = []\n",
    "\n",
    "        for sample in scaled_samples:\n",
    "            data = {self.dimension_names[i]: sample[i] for i in range(self.d)}\n",
    "            try:\n",
    "                instance = self.pydantic_class(**data)\n",
    "                instances.append(instance)\n",
    "            except ValidationError as e:\n",
    "                print(f\"Validation error for sample {data}: {e}\")\n",
    "\n",
    "        return instances"
   ]
  },
  {
   "cell_type": "code",
   "execution_count": 3,
   "id": "b347c245-fb74-4905-bfc2-62d16680ddb5",
   "metadata": {
    "tags": []
   },
   "outputs": [],
   "source": [
    "# Example usage:\n",
    "\n",
    "class ExampleModel(BaseModel):\n",
    "    x: float\n",
    "    y: float"
   ]
  },
  {
   "cell_type": "code",
   "execution_count": 10,
   "id": "30dc7d36-f50d-400d-a8ab-9dfb4332998b",
   "metadata": {
    "tags": []
   },
   "outputs": [],
   "source": [
    "dimensions = {\n",
    "    'x': [0.0, 1.0],\n",
    "    'y': [0.0, 1.0]\n",
    "}"
   ]
  },
  {
   "cell_type": "code",
   "execution_count": 9,
   "id": "6a911afb-d884-4d08-977d-9499d6f74906",
   "metadata": {
    "tags": []
   },
   "outputs": [],
   "source": [
    "sampler = Sampler(ExampleModel, dimensions)"
   ]
  },
  {
   "cell_type": "code",
   "execution_count": 3,
   "id": "9016b836-0437-4e71-9f78-f8dd8c446808",
   "metadata": {
    "tags": []
   },
   "outputs": [
    {
     "name": "stdout",
     "output_type": "stream",
     "text": [
      "x=0.965993114747107 y=0.4378434782847762\n",
      "x=0.3657691217958927 y=0.9745242334902287\n",
      "x=0.1677903849631548 y=0.18230918888002634\n",
      "x=0.5004286309704185 y=0.6553836856037378\n",
      "x=0.6885354518890381 y=0.0008815405890345573\n",
      "x=0.10417966265231371 y=0.5364559143781662\n",
      "x=0.4296379489824176 y=0.36921071726828814\n",
      "x=0.7776579912751913 y=0.8433913569897413\n",
      "x=0.8349188230931759 y=0.2099787648767233\n",
      "x=0.49739681277424097 y=0.7370263384655118\n"
     ]
    },
    {
     "name": "stderr",
     "output_type": "stream",
     "text": [
      "/usr/local/lib/python3.10/dist-packages/scipy/stats/_qmc.py:958: UserWarning: The balance properties of Sobol' points require n to be a power of 2.\n",
      "  sample = self._random(n, workers=workers)\n"
     ]
    }
   ],
   "source": [
    "samples = sampler.sample(10)\n",
    "\n",
    "for s in samples:\n",
    "    print(s)"
   ]
  },
  {
   "cell_type": "code",
   "execution_count": 5,
   "id": "b476a4eb-7d55-418b-9fc2-80ee6e6ced17",
   "metadata": {
    "tags": []
   },
   "outputs": [
    {
     "name": "stdout",
     "output_type": "stream",
     "text": [
      "x=0.6617371942847967 y=0.37738210428506136\n",
      "x=0.013912404887378216 y=0.9138329084962606\n",
      "x=0.45642897207289934 y=0.24269575905054808\n",
      "x=0.8679332584142685 y=0.7160285785794258\n",
      "x=0.7992169056087732 y=0.333571657538414\n",
      "x=0.4001637762412429 y=0.8594986675307155\n",
      "x=0.06699216458946466 y=0.046289561316370964\n",
      "x=0.7336157970130444 y=0.5105786891654134\n",
      "x=0.5451959101483226 y=0.14568642154335976\n",
      "x=0.1307628881186247 y=0.672475672326982\n"
     ]
    }
   ],
   "source": [
    "more_samples = sampler.sample(10)\n",
    "\n",
    "for s in more_samples:\n",
    "    print(s)"
   ]
  },
  {
   "cell_type": "code",
   "execution_count": 7,
   "id": "8a96e198-0879-4378-be85-632357481871",
   "metadata": {
    "tags": []
   },
   "outputs": [
    {
     "data": {
      "text/plain": [
       "{'x': [0.0, 1.0], 'y': [0.0, 1.0]}"
      ]
     },
     "execution_count": 7,
     "metadata": {},
     "output_type": "execute_result"
    }
   ],
   "source": [
    "sampler.dimensions"
   ]
  },
  {
   "cell_type": "code",
   "execution_count": null,
   "id": "409c9c42-19d8-440c-911f-c96f838a5fd3",
   "metadata": {},
   "outputs": [],
   "source": []
  }
 ],
 "metadata": {
  "kernelspec": {
   "display_name": "Python 3 (ipykernel)",
   "language": "python",
   "name": "python3"
  },
  "language_info": {
   "codemirror_mode": {
    "name": "ipython",
    "version": 3
   },
   "file_extension": ".py",
   "mimetype": "text/x-python",
   "name": "python",
   "nbconvert_exporter": "python",
   "pygments_lexer": "ipython3",
   "version": "3.10.12"
  }
 },
 "nbformat": 4,
 "nbformat_minor": 5
}
