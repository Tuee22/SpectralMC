{
 "cells": [
  {
   "cell_type": "code",
   "execution_count": null,
   "id": "f4fdc620-6a84-4b98-9e85-0b00a286728a",
   "metadata": {
    "tags": []
   },
   "outputs": [],
   "source": [
    "import numpy as np\n",
    "from scipy.stats.qmc import Sobol\n",
    "from pydantic import BaseModel, ValidationError\n",
    "from typing import Type, Any, List, Dict"
   ]
  },
  {
   "cell_type": "code",
   "execution_count": null,
   "id": "56d281fb-f7ed-42a6-b33b-b772970f0070",
   "metadata": {
    "tags": []
   },
   "outputs": [],
   "source": [
    "class SobolSampler:\n",
    "    def __init__(self, pydantic_class: Type[BaseModel], dimensions: Dict[str, List[float]]):\n",
    "        self.pydantic_class = pydantic_class\n",
    "        self.dimensions = dimensions\n",
    "        self.dimension_names = list(dimensions.keys())\n",
    "        self.lower_bounds = np.array([v[0] for v in dimensions.values()])\n",
    "        self.upper_bounds = np.array([v[1] for v in dimensions.values()])\n",
    "        self.d = len(dimensions)\n",
    "        self.sampler = Sobol(d=self.d, scramble=True)\n",
    "\n",
    "    def sample(self, n_samples: int) -> List[BaseModel]:\n",
    "        samples = self.sampler.random(n_samples)\n",
    "        scaled_samples = self.lower_bounds + (self.upper_bounds - self.lower_bounds) * samples\n",
    "        instances = []\n",
    "\n",
    "        for sample in scaled_samples:\n",
    "            data = {self.dimension_names[i]: sample[i] for i in range(self.d)}\n",
    "            try:\n",
    "                instance = self.pydantic_class(**data)\n",
    "                instances.append(instance)\n",
    "            except ValidationError as e:\n",
    "                print(f\"Validation error for sample {data}: {e}\")\n",
    "\n",
    "        return instances"
   ]
  },
  {
   "cell_type": "code",
   "execution_count": null,
   "id": "b347c245-fb74-4905-bfc2-62d16680ddb5",
   "metadata": {
    "tags": []
   },
   "outputs": [],
   "source": [
    "# Example usage:\n",
    "\n",
    "class ExampleModel(BaseModel):\n",
    "    x: float\n",
    "    y: float"
   ]
  },
  {
   "cell_type": "code",
   "execution_count": null,
   "id": "30dc7d36-f50d-400d-a8ab-9dfb4332998b",
   "metadata": {
    "tags": []
   },
   "outputs": [],
   "source": [
    "dimensions = {\n",
    "    'x': [0.0, 1.0],\n",
    "    'y': [0.0, 1.0]\n",
    "}"
   ]
  },
  {
   "cell_type": "code",
   "execution_count": null,
   "id": "6a911afb-d884-4d08-977d-9499d6f74906",
   "metadata": {
    "tags": []
   },
   "outputs": [],
   "source": [
    "sampler = Sampler(ExampleModel, dimensions)"
   ]
  },
  {
   "cell_type": "code",
   "execution_count": null,
   "id": "9016b836-0437-4e71-9f78-f8dd8c446808",
   "metadata": {
    "tags": []
   },
   "outputs": [],
   "source": [
    "samples = sampler.sample(10)\n",
    "\n",
    "for s in samples:\n",
    "    print(s)"
   ]
  },
  {
   "cell_type": "code",
   "execution_count": null,
   "id": "b476a4eb-7d55-418b-9fc2-80ee6e6ced17",
   "metadata": {
    "tags": []
   },
   "outputs": [],
   "source": [
    "more_samples = sampler.sample(10)\n",
    "\n",
    "for s in more_samples:\n",
    "    print(s)"
   ]
  },
  {
   "cell_type": "code",
   "execution_count": null,
   "id": "8a96e198-0879-4378-be85-632357481871",
   "metadata": {
    "tags": []
   },
   "outputs": [],
   "source": [
    "sampler.dimensions"
   ]
  },
  {
   "cell_type": "code",
   "execution_count": null,
   "id": "409c9c42-19d8-440c-911f-c96f838a5fd3",
   "metadata": {},
   "outputs": [],
   "source": []
  }
 ],
 "metadata": {
  "kernelspec": {
   "display_name": "Python 3 (ipykernel)",
   "language": "python",
   "name": "python3"
  },
  "language_info": {
   "codemirror_mode": {
    "name": "ipython",
    "version": 3
   },
   "file_extension": ".py",
   "mimetype": "text/x-python",
   "name": "python",
   "nbconvert_exporter": "python",
   "pygments_lexer": "ipython3",
   "version": "3.12.10"
  }
 },
 "nbformat": 4,
 "nbformat_minor": 5
}
