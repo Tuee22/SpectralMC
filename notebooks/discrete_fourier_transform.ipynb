{
 "cells": [
  {
   "cell_type": "code",
   "execution_count": null,
   "id": "27c63185-eef6-4b04-b237-fa3beb20a5bb",
   "metadata": {
    "tags": []
   },
   "outputs": [],
   "source": [
    "import numpy as np\n",
    "import pandas as pd\n",
    "import matplotlib.pyplot as plt\n",
    "import plotly.express as px\n",
    "import plotly.graph_objects as go\n",
    "from plotly.subplots import make_subplots\n",
    "import cupy as cp\n",
    "EPSILON=1e-8"
   ]
  },
  {
   "cell_type": "code",
   "execution_count": null,
   "id": "e197fc58-f674-436f-8bce-6ddb95af39ca",
   "metadata": {
    "tags": []
   },
   "outputs": [],
   "source": [
    "def plot_random_sample_and_recovery(random_sample,recovered_random_sample):\n",
    "    # Generate indices for plotting\n",
    "    indices = np.arange(random_sample.shape[0])\n",
    "    frequencies = np.fft.fftfreq(random_sample.shape[-1])\n",
    "\n",
    "    # Create a dataframe for the original and recovered random samples for easy plotting with Plotly\n",
    "    df_samples = pd.DataFrame({\n",
    "        'Index': np.concatenate([indices, indices]),\n",
    "        'Value': np.concatenate([random_sample, recovered_random_sample.real]),\n",
    "        'Sample Type': ['Original' for _ in range(len(random_sample))] + ['Recovered' for _ in range(len(recovered_random_sample))]\n",
    "    })\n",
    "\n",
    "    # Plot original and recovered random sample using Plotly Express\n",
    "    fig_samples = px.line(df_samples, x='Index', y='Value', color='Sample Type', title='Original vs. Recovered Random Sample')\n",
    "    return fig_samples"
   ]
  },
  {
   "cell_type": "code",
   "execution_count": null,
   "id": "c43dccd1-4a6c-4b9c-8520-ebdb9717fb09",
   "metadata": {
    "tags": []
   },
   "outputs": [],
   "source": [
    "def plot_frequencies(random_sample,fft_result_random):\n",
    "    # Create a dataframe for the FFT magnitude plot for easy plotting with Plotly\n",
    "    frequencies=np.fft.fftfreq(random_sample.shape[-1])\n",
    "    df_fft = pd.DataFrame({\n",
    "        'Frequency': frequencies,\n",
    "        'Magnitude': np.abs(fft_result_random),\n",
    "        'Phase': np.angle(fft_result_random),\n",
    "    })\n",
    "\n",
    "    # Plot FFT magnitude of random sample using Plotly Express\n",
    "    fig_fft = px.scatter(df_fft, x='Frequency', y='Magnitude', color='Phase',title='FFT Magnitude of Random Sample')\n",
    "    return fig_fft"
   ]
  },
  {
   "cell_type": "code",
   "execution_count": null,
   "id": "78b4fc81-2fb2-4d15-8d3c-c943f6c75e61",
   "metadata": {
    "tags": []
   },
   "outputs": [],
   "source": [
    "# Generate a random sample\n",
    "np.random.seed(42)  # For reproducibility\n",
    "sample_size=1024\n",
    "random_sample = np.random.randn(sample_size)  # Generate 1024 random numbers from a normal distribution"
   ]
  },
  {
   "cell_type": "code",
   "execution_count": null,
   "id": "8d0ba9cc-c11c-4ce8-9b29-00d1327bc0aa",
   "metadata": {
    "tags": []
   },
   "outputs": [],
   "source": [
    "# Perform FFT on the random sample\n",
    "fft_result_random = np.fft.fft(random_sample)\n",
    "# Perform IFFT to recover the original random sample\n",
    "recovered_random_sample = np.fft.ifft(fft_result_random)"
   ]
  },
  {
   "cell_type": "code",
   "execution_count": null,
   "id": "fbde02b5-8627-4d54-bd78-cc83476128df",
   "metadata": {
    "tags": []
   },
   "outputs": [],
   "source": [
    "fft_result_random"
   ]
  },
  {
   "cell_type": "code",
   "execution_count": null,
   "id": "38358217-84e6-49b6-96cc-5ba2f5792d78",
   "metadata": {
    "tags": []
   },
   "outputs": [],
   "source": [
    "plot_random_sample_and_recovery(random_sample,recovered_random_sample)"
   ]
  },
  {
   "cell_type": "code",
   "execution_count": null,
   "id": "6c85853b-c0d4-485e-a4f8-14dda0038ef5",
   "metadata": {
    "tags": []
   },
   "outputs": [],
   "source": [
    "plot_frequencies(random_sample,fft_result_random)"
   ]
  },
  {
   "cell_type": "code",
   "execution_count": null,
   "id": "81e16f0b-469a-4587-abd0-1b5600879d3b",
   "metadata": {
    "tags": []
   },
   "outputs": [],
   "source": [
    "# --------------------------------------------------------------------\n",
    "#  ⚡️ Readability–first reference implementations of the 1‑D DFT\n",
    "#  ---------------------------------------------------------------\n",
    "#  These are intentionally *not* the fastest way to compute an FFT\n",
    "#  (use np.fft or cupy.fft in production).  They are written to\n",
    "#  mirror the mathematics as closely as possible, so every line has\n",
    "#  an obvious theoretical counterpart.\n",
    "# --------------------------------------------------------------------\n",
    "\n",
    "def my_fft(x: np.ndarray):\n",
    "    \"\"\"\n",
    "    Discrete Fourier Transform (DFT) — reference implementation.\n",
    "\n",
    "    Parameters\n",
    "    ----------\n",
    "    x : ndarray, shape (N,)\n",
    "        Time‑domain signal.  May be real or complex.\n",
    "\n",
    "    Returns\n",
    "    -------\n",
    "    X : ndarray, shape (N,)\n",
    "        Frequency‑domain spectrum where element `k` equals\n",
    "\n",
    "        .. math::\n",
    "\n",
    "            X[k] = \\\\sum_{n=0}^{N-1} x[n] \\\\; e^{-j\\\\,2\\\\pi kn / N}.\n",
    "\n",
    "    Notes\n",
    "    -----\n",
    "    * **Why the outer‑product form?**  \n",
    "      We build the full `N×N` matrix\n",
    "\n",
    "      .. math:: e^{-j 2\\\\pi k n /N}\n",
    "\n",
    "      (rows indexed by *k*, columns by *n*) and perform an ordinary\n",
    "      matrix–vector multiplication.  That matches the textbook\n",
    "      definition exactly, at the cost of 𝒪(N²) flops and memory.\n",
    "\n",
    "    * **Orthogonality**  \n",
    "      The complex exponentials for different *k* are mutually\n",
    "      orthogonal under the discrete inner product, which is why the\n",
    "      transform is invertible.\n",
    "\n",
    "    * **Performance**  \n",
    "      A radix‑2 FFT reduces the cost to 𝒪(N log N).  This routine is\n",
    "      therefore suitable for pedagogy or unit‑testing only.\n",
    "    \"\"\"\n",
    "    N  = len(x)\n",
    "    n  = np.arange(N)                 # 0 … N‑1  (time indices)\n",
    "    k  = n.reshape((N, 1))            # 0 … N‑1  (frequency indices as column)\n",
    "    e  = np.exp(-2j * np.pi * k * n / N)\n",
    "    return e @ x                      # same as np.dot(e, x)\n",
    "\n",
    "\n",
    "def my_ifft(X: np.ndarray):\n",
    "    \"\"\"\n",
    "    Inverse Discrete Fourier Transform (IDFT) — reference implementation.\n",
    "\n",
    "    Parameters\n",
    "    ----------\n",
    "    X : ndarray, shape (N,)\n",
    "        Complex Fourier spectrum produced by `my_fft` (or any routine\n",
    "        following the same conventions).\n",
    "\n",
    "    Returns\n",
    "    -------\n",
    "    x : ndarray, shape (N,)\n",
    "        Reconstructed time‑domain sequence:\n",
    "\n",
    "        .. math::\n",
    "\n",
    "            x[n] = \\\\frac{1}{N} \\\\sum_{k=0}^{N-1} X[k] \\\\; e^{+j\\\\,2\\\\pi kn / N}.\n",
    "\n",
    "    Notes\n",
    "    -----\n",
    "    * The only difference from `my_fft` is the sign in the exponent\n",
    "      and the **1/N scaling** (required to make the transform pair\n",
    "      unitary).  Many FFT packages put the 1/N factor in the *forward*\n",
    "      transform or split it as 1/√N in both directions; any choice is\n",
    "      valid as long as the pair is mutually inverse.\n",
    "\n",
    "    * Because the algorithm is again 𝒪(N²), use it for educational\n",
    "      purposes, small N, or validation of high‑performance FFT code.\n",
    "    \"\"\"\n",
    "    N  = len(X)\n",
    "    n  = np.arange(N)\n",
    "    k  = n.reshape((N, 1))\n",
    "    e  = np.exp(+2j * np.pi * k * n / N)\n",
    "    return (e @ X) / N                # divide by N to undo the forward scale\n",
    "\n",
    "\n",
    "def fftfreq(N: int, d: float = 1.0):\n",
    "    r\"\"\"\n",
    "    Frequency bin centres corresponding to an *N‑point* FFT.\n",
    "\n",
    "    The FFT output `X[0 … N−1]` is indexed by an integer *k*.  The\n",
    "    physical frequency represented by that bin is\n",
    "\n",
    "    .. math:: f_k = \\frac{k}{N\\,d} \\quad\\text{for}\\; k = 0,1,…,N-1.\n",
    "\n",
    "    Because complex exponentials are periodic, indices beyond `N/2`\n",
    "    actually correspond to *negative* frequencies.  This helper\n",
    "    returns them in the exact order stored by `numpy.fft.fft`, i.e.\n",
    "\n",
    "        ``[0, +f₀, +2f₀, …, +(N/2−1)f₀,  −N/2 f₀, …, −f₀]``\n",
    "\n",
    "    where ``f₀ = 1 / (N d)``.\n",
    "\n",
    "    Parameters\n",
    "    ----------\n",
    "    N : int\n",
    "        Length of the FFT (window size).\n",
    "\n",
    "    d : float, optional\n",
    "        Sample spacing in **time** units.  If the data were collected\n",
    "        at sampling frequency ``fs`` Hz, set ``d = 1/fs``.  Default is\n",
    "        1.0, which yields dimensionless “cycles per sample”.\n",
    "\n",
    "    Returns\n",
    "    -------\n",
    "    f : ndarray, shape (N,)\n",
    "        Frequencies in Hertz (or `1/d` units) that align with the FFT\n",
    "        bins.\n",
    "\n",
    "    Implementation details\n",
    "    ----------------------\n",
    "    Using modular arithmetic we can jump straight to the desired\n",
    "    ordering without splicing arrays:\n",
    "\n",
    "    1. ``k = [0, 1, …, N−1]``\n",
    "    2. ``k + N//2``         ⇒ shift origin by half a window\n",
    "    3. ``% N``              ⇒ wrap values into `[0, …, N−1]`\n",
    "    4. ``− N//2``           ⇒ recentre so zero is in the middle\n",
    "    5. divide by ``N*d``    ⇒ convert index → frequency\n",
    "\n",
    "    This matches `numpy.fft.fftfreq` exactly but in a single vectorised\n",
    "    expression.\n",
    "\n",
    "    Examples\n",
    "    --------\n",
    "    >>> fftfreq(8, d=0.001)\n",
    "    array([    0.,   125.,   250.,   375.,  -500.,  -375.,  -250.,  -125.])\n",
    "\n",
    "    See Also\n",
    "    --------\n",
    "    numpy.fft.fftfreq : NumPy’s reference implementation.\n",
    "    numpy.fft.rfftfreq : Positive‑only frequencies for real‑input FFTs.\n",
    "    numpy.fft.fftshift : Re‑order spectrum to `[−f..0..+f]` form.\n",
    "    \"\"\"\n",
    "    k = np.arange(N)\n",
    "    return ((k + N // 2) % N - N // 2) / (N * d)"
   ]
  },
  {
   "cell_type": "code",
   "execution_count": null,
   "id": "f10aed99-fb27-421f-baf7-5b38f90fe1ce",
   "metadata": {
    "tags": []
   },
   "outputs": [],
   "source": [
    "fftfreq(4)"
   ]
  },
  {
   "cell_type": "code",
   "execution_count": null,
   "id": "feddcf0c-ebc2-4d39-ae28-ab7f13f04ac9",
   "metadata": {
    "tags": []
   },
   "outputs": [],
   "source": [
    "# verify this fftfreq function matches numpy/cupy \n",
    "assert np.abs(fftfreq(sample_size)-np.fft.fftfreq(random_sample.shape[-1])).max()<EPSILON"
   ]
  },
  {
   "cell_type": "code",
   "execution_count": null,
   "id": "a551ecf4-8fed-42f9-af65-5f46bac0bdbf",
   "metadata": {
    "tags": []
   },
   "outputs": [],
   "source": [
    "my_fft_result_random = my_fft(random_sample)\n",
    "\n",
    "# Perform IFFT to recover the original random sample\n",
    "my_recovered_random_sample = np.array(my_ifft(fft_result_random))"
   ]
  },
  {
   "cell_type": "code",
   "execution_count": null,
   "id": "a4f22a74-b3e7-48e3-810d-18130e5a8b2a",
   "metadata": {
    "tags": []
   },
   "outputs": [],
   "source": [
    "plot_random_sample_and_recovery(random_sample,my_recovered_random_sample)"
   ]
  },
  {
   "cell_type": "code",
   "execution_count": null,
   "id": "999c79bb-3da3-47b8-b0b7-fdca649d531e",
   "metadata": {
    "tags": []
   },
   "outputs": [],
   "source": [
    "plot_frequencies(random_sample,my_fft_result_random)"
   ]
  },
  {
   "cell_type": "code",
   "execution_count": null,
   "id": "f9e7677d-41c2-4dd7-91a0-7bc5d79241e3",
   "metadata": {
    "tags": []
   },
   "outputs": [],
   "source": [
    "dft_result_random = my_fft(random_sample)\n",
    "\n",
    "# Perform IFFT to recover the original random sample\n",
    "dft_recovered_random_sample = np.array(my_ifft(fft_result_random))"
   ]
  },
  {
   "cell_type": "code",
   "execution_count": null,
   "id": "b8a93ef3-f90a-4a21-a333-7eadf55e136c",
   "metadata": {
    "tags": []
   },
   "outputs": [],
   "source": [
    "plot_random_sample_and_recovery(random_sample,dft_recovered_random_sample)"
   ]
  },
  {
   "cell_type": "markdown",
   "id": "613fdf57-730c-41b4-a25c-6d0b6621d4de",
   "metadata": {},
   "source": [
    "# Part Two"
   ]
  },
  {
   "cell_type": "code",
   "execution_count": null,
   "id": "9a712b39-1b27-4b97-bec5-0cae36314ef5",
   "metadata": {
    "tags": []
   },
   "outputs": [],
   "source": [
    "inner_sims=2048\n",
    "outer_sims=100000"
   ]
  },
  {
   "cell_type": "code",
   "execution_count": null,
   "id": "a940e267-d801-405c-b6d5-132c109c94f4",
   "metadata": {
    "tags": []
   },
   "outputs": [],
   "source": [
    "%%time\n",
    "cp.random.seed(42)\n",
    "rands=cp.random.randn(inner_sims,outer_sims)"
   ]
  },
  {
   "cell_type": "code",
   "execution_count": null,
   "id": "90f60a85-707e-44fc-b2e0-3187508cdb24",
   "metadata": {
    "tags": []
   },
   "outputs": [],
   "source": [
    "%%time\n",
    "column_sums=rands.sum(axis=0)\n",
    "column_sums.shape"
   ]
  },
  {
   "cell_type": "code",
   "execution_count": null,
   "id": "ca3801b1-14ac-4f4b-8d67-ab00edc5c7d5",
   "metadata": {
    "tags": []
   },
   "outputs": [],
   "source": [
    "%%time\n",
    "fft=cp.fft.fft(rands,axis=0)\n",
    "fft.shape"
   ]
  },
  {
   "cell_type": "code",
   "execution_count": null,
   "id": "9e6242d8-04a1-4f94-b915-ee97c2f336af",
   "metadata": {
    "tags": []
   },
   "outputs": [],
   "source": [
    "%%time\n",
    "# first frequency always corresponds with sum of all values\n",
    "assert np.abs(column_sums-fft[0]).max()<EPSILON"
   ]
  },
  {
   "cell_type": "code",
   "execution_count": null,
   "id": "04b2e3cf-5580-411b-bcf7-6ae6b8570f75",
   "metadata": {
    "tags": []
   },
   "outputs": [],
   "source": [
    "mean_frequency_domain=fft.mean(axis=1)\n",
    "mean_frequency_domain.shape"
   ]
  },
  {
   "cell_type": "code",
   "execution_count": null,
   "id": "9fac4fe8-5813-47ee-bf2d-03abc41d8c4a",
   "metadata": {
    "tags": []
   },
   "outputs": [],
   "source": [
    "%%time\n",
    "# the mean of lowest frequency is the mean of column sums\n",
    "assert np.abs(mean_frequency_domain[0]-column_sums.mean())<EPSILON"
   ]
  },
  {
   "cell_type": "code",
   "execution_count": null,
   "id": "961526f7-9920-4437-af12-14b3d3744551",
   "metadata": {
    "tags": []
   },
   "outputs": [],
   "source": [
    "column_sums.mean()/inner_sims"
   ]
  },
  {
   "cell_type": "code",
   "execution_count": null,
   "id": "5ec6beee-4b86-4ad4-9786-b7661be72c9d",
   "metadata": {
    "tags": []
   },
   "outputs": [],
   "source": [
    "%%time\n",
    "ifft_mean_fft=cp.fft.ifft(mean_frequency_domain)"
   ]
  },
  {
   "cell_type": "code",
   "execution_count": null,
   "id": "207d5b70-c31b-4dca-ba54-fd5907923f3e",
   "metadata": {
    "tags": []
   },
   "outputs": [],
   "source": [
    "%%time\n",
    "# the ifft of the mean of the fft is the mean of the original random matrix\n",
    "assert np.abs(ifft_mean_fft-rands.mean(axis=1)).max()<EPSILON"
   ]
  },
  {
   "cell_type": "code",
   "execution_count": null,
   "id": "53a6abbf-709e-4527-8ed1-a6f4a927432f",
   "metadata": {
    "tags": []
   },
   "outputs": [],
   "source": [
    "fig=px.scatter(ifft_mean_fft.real.get(),opacity=0.3)\n",
    "fig.update_traces(marker=dict(size=10))\n",
    "fig"
   ]
  },
  {
   "cell_type": "code",
   "execution_count": null,
   "id": "ca201360-180d-4aa1-85a7-cfdf9e567a08",
   "metadata": {
    "tags": []
   },
   "outputs": [],
   "source": [
    "px.histogram(ifft_mean_fft.real.get(),nbins=50)"
   ]
  },
  {
   "cell_type": "code",
   "execution_count": null,
   "id": "b3b928c0-1a38-43d2-8b58-05777308089e",
   "metadata": {
    "tags": []
   },
   "outputs": [],
   "source": [
    "fig=px.violin(ifft_mean_fft.real.get(),points='all',box=True)\n",
    "fig.update_traces(marker=dict(size=10,opacity=0.1))\n",
    "fig"
   ]
  },
  {
   "cell_type": "markdown",
   "id": "8dd1f266-e67c-4c14-b993-6c807e0f9628",
   "metadata": {},
   "source": [
    "# Part Three - Visualization of DFT"
   ]
  },
  {
   "cell_type": "code",
   "execution_count": null,
   "id": "a881e223-44b4-4b0c-8bd6-8df430026208",
   "metadata": {},
   "outputs": [],
   "source": [
    "# Monte Carlo sample from standard normal distribution\n",
    "np.random.seed(0)\n",
    "N = 128\n",
    "sample = np.random.normal(size=N)\n",
    "\n",
    "# Compute the DFT of the sample\n",
    "dft = np.fft.fft(sample)\n",
    "real = dft.real\n",
    "imag = dft.imag\n",
    "magnitude = np.abs(dft)\n",
    "phase = np.angle(dft)\n",
    "idx = np.arange(N)\n",
    "\n",
    "# Time series plot of the original sample\n",
    "fig1 = go.Figure()\n",
    "fig1.add_trace(go.Scatter(x=idx, y=sample, mode='lines+markers', name='Sample'))\n",
    "fig1.update_layout(title='Original Sample (Time Series)', xaxis_title='Index', yaxis_title='Value')\n",
    "\n",
    "# Plot real and imaginary parts of the DFT\n",
    "fig2 = go.Figure()\n",
    "fig2.add_trace(go.Scatter(x=idx, y=real, mode='lines+markers', name='Real part'))\n",
    "fig2.add_trace(go.Scatter(x=idx, y=imag, mode='lines+markers', name='Imag part'))\n",
    "fig2.update_layout(title='DFT: Real and Imaginary Parts', xaxis_title='Frequency Index', yaxis_title='DFT value')\n",
    "\n",
    "# Plot magnitude and phase of the DFT (using subplots for clarity)\n",
    "fig3 = make_subplots(rows=2, cols=1, shared_xaxes=True,\n",
    "                     subplot_titles=('Magnitude of DFT', 'Phase of DFT'))\n",
    "fig3.add_trace(go.Scatter(x=idx, y=magnitude, mode='lines+markers', name='Magnitude'), row=1, col=1)\n",
    "fig3.add_trace(go.Scatter(x=idx, y=phase, mode='lines+markers', name='Phase'), row=2, col=1)\n",
    "fig3.update_xaxes(title_text='Frequency Index', row=2, col=1)\n",
    "fig3.update_yaxes(title_text='Magnitude', row=1, col=1)\n",
    "fig3.update_yaxes(title_text='Phase (radians)', row=2, col=1)\n",
    "fig3.update_layout(title='Magnitude and Phase of DFT', showlegend=False)\n",
    "\n",
    "# 3D scatter plot: frequency index vs magnitude vs phase\n",
    "fig4 = go.Figure()\n",
    "fig4.add_trace(go.Scatter3d(x=idx, y=magnitude, z=phase, mode='markers',\n",
    "                            marker=dict(size=4, color=magnitude, colorscale='Viridis', colorbar=dict(title='Magnitude'))))\n",
    "fig4.update_layout(title='DFT: Frequency Index vs Magnitude vs Phase',\n",
    "                   scene=dict(xaxis_title='Frequency Index', yaxis_title='Magnitude', zaxis_title='Phase (radians)'))\n",
    "\n",
    "# Display the figures\n",
    "fig1.show()\n",
    "fig2.show()\n",
    "fig3.show()\n",
    "fig4.show()"
   ]
  }
 ],
 "metadata": {
  "kernelspec": {
   "display_name": "Python 3 (ipykernel)",
   "language": "python",
   "name": "python3"
  },
  "language_info": {
   "codemirror_mode": {
    "name": "ipython",
    "version": 3
   },
   "file_extension": ".py",
   "mimetype": "text/x-python",
   "name": "python",
   "nbconvert_exporter": "python",
   "pygments_lexer": "ipython3",
   "version": "3.12.10"
  }
 },
 "nbformat": 4,
 "nbformat_minor": 5
}
