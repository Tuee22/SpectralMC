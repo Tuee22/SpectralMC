{
 "cells": [
  {
   "cell_type": "code",
   "execution_count": 1,
   "id": "cc38b8d6-9a20-44a2-b486-221fb1c437d7",
   "metadata": {
    "tags": []
   },
   "outputs": [],
   "source": [
    "from pylib.async_normals import ConcurrentNormGenerator\n",
    "from pylib.immutable_base_model import ImmutableBaseModel\n",
    "import numba.cuda\n",
    "from pydantic import Field, confloat, field_validator, ConfigDict\n",
    "from math import sqrt\n",
    "import cupy as cp\n",
    "from typing import Optional"
   ]
  },
  {
   "cell_type": "code",
   "execution_count": 2,
   "id": "4a0c9a42-59f5-4e0c-a315-d731a7eff484",
   "metadata": {
    "tags": []
   },
   "outputs": [],
   "source": [
    "class SimulationParams(ImmutableBaseModel):\n",
    "    timesteps: int = Field(..., gt=0, description=\"Number of timesteps in the simulation\")\n",
    "    network_size: int = Field(..., gt=0, description=\"Size of the network\")\n",
    "    batches_per_mc_run: int = Field(..., gt=0, description=\"Number of batches per Monte Carlo run\")\n",
    "    threads_per_block: int = Field(..., gt=0, description=\"Number of threads per cuda block\")\n",
    "    mc_seed: int = Field(..., gt=0, description=\"Seed for Monte Carlo simulations\")\n",
    "    buffer_size: int = Field(..., gt=0, description=\"Size of the buffer used in simulations\")\n",
    "\n",
    "    def total_paths(self) -> int:\n",
    "        return self.network_size * self.batches_per_mc_run\n",
    "\n",
    "    def total_blocks(self) -> int:\n",
    "        return (self.total_paths + self.threads_per_block - 1) // self.threads_per_block"
   ]
  },
  {
   "cell_type": "code",
   "execution_count": 3,
   "id": "14f86122-024c-479c-8df1-98f807583230",
   "metadata": {
    "tags": []
   },
   "outputs": [],
   "source": [
    "@numba.cuda.jit\n",
    "def SimulateBlackScholes(input_output, timesteps, sqrt_dt, X0, v):\n",
    "    idx = numba.cuda.grid(1)\n",
    "    if idx < input_output.shape[1]:\n",
    "        X = X0\n",
    "        for i in range(timesteps):\n",
    "            dW = input_output[i,idx] * sqrt_dt\n",
    "            X += v * X * dW\n",
    "            X = abs(X)\n",
    "            input_output[i,idx] = X"
   ]
  },
  {
   "cell_type": "code",
   "execution_count": 4,
   "id": "4a6ff244-4d93-4269-8b3b-59e51164b427",
   "metadata": {
    "tags": []
   },
   "outputs": [],
   "source": [
    "class BlackScholes:\n",
    "    class Inputs(ImmutableBaseModel):\n",
    "        X0: confloat(gt=0) = Field(..., description=\"Initial stock price, must be greater than 0\")\n",
    "        K: confloat(gt=0) = Field(..., description=\"Strike price, must be greater than 0\")\n",
    "        T: confloat(ge=0) = Field(..., description=\"Time to maturity in years, must be greater than 0\")\n",
    "        r: float = Field(..., description=\"Risk-free interest rate\")\n",
    "        d: float = Field(..., description=\"Dividend yield\")\n",
    "        v: confloat(gt=0) = Field(..., description=\"Volatility, must be greater than 0\")\n",
    "        \n",
    "    class SimResults(ImmutableBaseModel):\n",
    "        times: cp.ndarray = Field(..., description=\"vector of timesteps\")\n",
    "        sims: cp.ndarray = Field(..., description=\"array of simulated price paths\")\n",
    "        forwards: cp.ndarray = Field(..., description=\"vector of forwards\")\n",
    "        df: cp.ndarray = Field(..., description=\"vector of discount factors\")\n",
    "\n",
    "        @field_validator('times', 'sims', 'forwards', 'df', mode='before')\n",
    "        def check_cupy_array(cls, v):\n",
    "            if not isinstance(v, cp.ndarray):\n",
    "                raise ValueError(f'{v} is not a CuPy array')\n",
    "            return v\n",
    "\n",
    "        model_config = ConfigDict(arbitrary_types_allowed=True)        \n",
    "\n",
    "    class PricingResults(ImmutableBaseModel):\n",
    "        call_price_intrinsic: cp.ndarray = Field(..., description=\"call zero vol price-- network learns additive adjustment\")\n",
    "        put_price_intrinsic: cp.ndarray = Field(..., description=\"put zero vol price-- network learns additive adjustment\")\n",
    "        underlying: cp.ndarray = Field(..., description=\"price of underlying\")\n",
    "        put_convexity: cp.ndarray = Field(..., description=\"put convexity adjustment on top of intrinsic\")\n",
    "        call_convexity: cp.ndarray = Field(..., description=\"call convexity adjustment on top of intrinsic\")\n",
    "\n",
    "        @field_validator('call_price_intrinsic', 'put_price_intrinsic', 'underlying', 'put_convexity', 'call_convexity', mode='before')\n",
    "        def check_cupy_array(cls, v):\n",
    "            if not isinstance(v, cp.ndarray):\n",
    "                raise ValueError(f'{v} is not a CuPy array')\n",
    "            return v\n",
    "\n",
    "        model_config = ConfigDict(arbitrary_types_allowed=True)\n",
    "\n",
    "    def __init__(self, sp: SimulationParams):\n",
    "        self._sp=sp\n",
    "        self._ng=ConcurrentNormGenerator(\n",
    "            rows=self._sp.timesteps,\n",
    "            cols=self._sp.total_paths,\n",
    "            seed=self._sp.mc_seed,\n",
    "            buffer_size=self._sp.buffer_size,\n",
    "        )\n",
    "        # create non-blocking streams for cupy and numba\n",
    "        self._cp_stream=cp.cuda.Stream(non_blocking=True)\n",
    "        self._numba_stream=numba.cuda.stream()\n",
    "        \n",
    "    def _simulate(self, inputs: Inputs)->SimResults:\n",
    "        sims=self._ng.get_matrix()\n",
    "        assert sims.shape == (self._sp.timesteps,self._sp.total_paths)\n",
    "        dt=inputs.T / self._sp.timesteps\n",
    "        sqrt_dt=sqrt(dt)\n",
    "        \n",
    "        # Convert sims to a Numba device array\n",
    "        sims_numba = numba.cuda.to_device(sims, stream=self._numba_stream)\n",
    "        \n",
    "        # Launch the kernel in the stream\n",
    "        SimulateBlackScholes[self._sp.total_blocks, self._sp.threads_per_block, self._numba_stream](\n",
    "            sims_numba,\n",
    "            self._sp.timesteps,\n",
    "            sqrt_dt,\n",
    "            inputs.X0,\n",
    "            inputs.v,\n",
    "        )\n",
    "        \n",
    "        # while that's happening, build forwards\n",
    "        with self._cp_stream:\n",
    "            times=cp.linspace(dt,inputs.T,num=self._sp.timesteps)\n",
    "            forwards=inputs.X0 * cp.exp((inputs.r-inputs.d)*times)\n",
    "            df=cp.exp(-inputs.r * times)\n",
    "            \n",
    "            # synchronize with kernel because next step requires sims\n",
    "            self._numba_stream.synchronize()          \n",
    "            \n",
    "            # Compute the row-wise mean of the array\n",
    "            row_means = cp.mean(sims, axis=1, keepdims=True)\n",
    "            # Compute the division of factors needed\n",
    "            factors = forwards[:, cp.newaxis] / row_means\n",
    "            # Multiply each row of the array by the corresponding factor\n",
    "            sims = sims * factors\n",
    "            \n",
    "        self._cp_stream.synchronize()\n",
    "        return BlackScholes.SimResults(times=times,sims=sims,forwards=forwards,df=df)\n",
    "    \n",
    "    def price(self, inputs:Inputs, sr: Optional[SimResults]=None)->PricingResults:\n",
    "        if sr is None:\n",
    "            sr=self._simulate(inputs=inputs)\n",
    "        \n",
    "        with self._cp_stream:\n",
    "            F=sr.forwards[-1]\n",
    "            df=sr.df[-1]\n",
    "            K=cp.array(inputs.K)\n",
    "            put_intrinsic=df*cp.maximum(K-F,0)\n",
    "            call_intrinsic=df*cp.maximum(F-K,0)\n",
    "            underlying_terminal=sr.sims[-1,:].reshape([sp.network_size,sp.batches_per_mc_run])\n",
    "            put_convexity=df*cp.maximum(K-underlying_terminal,0)-put_intrinsic\n",
    "            call_convexity=df*cp.maximum(underlying_terminal-K,0)-call_intrinsic\n",
    "            \n",
    "        self._cp_stream.synchronize()            \n",
    "        return BlackScholes.PricingResults(\n",
    "            call_price_intrinsic=call_intrinsic,\n",
    "            put_price_intrinsic=put_intrinsic, \n",
    "            underlying=underlying_terminal,\n",
    "            put_convexity=put_convexity, \n",
    "            call_convexity=call_convexity,\n",
    "        )"
   ]
  },
  {
   "cell_type": "code",
   "execution_count": 5,
   "id": "63ab19fa-c574-405a-8183-776dc0dc6751",
   "metadata": {
    "tags": []
   },
   "outputs": [],
   "source": [
    "sp=SimulationParams(\n",
    "    timesteps=1024,\n",
    "    network_size=2048,\n",
    "    batches_per_mc_run=32,\n",
    "    threads_per_block=256,\n",
    "    mc_seed=42,\n",
    "    buffer_size=3,\n",
    ")"
   ]
  },
  {
   "cell_type": "code",
   "execution_count": 6,
   "id": "59d3dfde-cfc2-48c6-b895-fc367d440a06",
   "metadata": {
    "tags": []
   },
   "outputs": [],
   "source": [
    "inputs=BlackScholes.Inputs(\n",
    "    X0=100,\n",
    "    K=100,\n",
    "    T=2,\n",
    "    r=0.02,\n",
    "    d=0.01,\n",
    "    v=0.2,\n",
    ")"
   ]
  },
  {
   "cell_type": "code",
   "execution_count": 7,
   "id": "68e3e68e-8b92-426e-ab45-36e4a28d23f1",
   "metadata": {
    "tags": []
   },
   "outputs": [],
   "source": [
    "bs = BlackScholes(sp=sp)\n",
    "sr = bs._simulate(inputs)"
   ]
  },
  {
   "cell_type": "code",
   "execution_count": 8,
   "id": "459a132f-64f6-4559-be5c-b541968b06ea",
   "metadata": {
    "tags": []
   },
   "outputs": [],
   "source": [
    "pr=bs.price(inputs=inputs,sr=sr)"
   ]
  }
 ],
 "metadata": {
  "kernelspec": {
   "display_name": "Python 3 (ipykernel)",
   "language": "python",
   "name": "python3"
  },
  "language_info": {
   "codemirror_mode": {
    "name": "ipython",
    "version": 3
   },
   "file_extension": ".py",
   "mimetype": "text/x-python",
   "name": "python",
   "nbconvert_exporter": "python",
   "pygments_lexer": "ipython3",
   "version": "3.10.12"
  }
 },
 "nbformat": 4,
 "nbformat_minor": 5
}
